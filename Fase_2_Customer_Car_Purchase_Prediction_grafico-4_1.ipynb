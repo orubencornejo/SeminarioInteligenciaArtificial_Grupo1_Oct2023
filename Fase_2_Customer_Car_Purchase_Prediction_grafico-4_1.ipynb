{
 "cells": [
  {
   "cell_type": "markdown",
   "metadata": {
    "id": "TUthYjFWc6bB"
   },
   "source": [
    "# Customer Car Purchase Prediction by watching Advertisement on Social Media"
   ]
  },
  {
   "cell_type": "markdown",
   "metadata": {
    "id": "ZMd4lvtTc6bC"
   },
   "source": [
    "Here we used Social_network_Ads dataset which providing information regarding the person's age and estimated salary & if he/she is interested in buying a car by watching an advertisement on Social Network.(yes=1,No=0)\n",
    "we will predict that what are the chances of new person of some age to be interested in buying car by watching the same Social Media Advertisement."
   ]
  },
  {
   "cell_type": "code",
   "execution_count": 108,
   "metadata": {
    "id": "dXdKmgcCc6bC"
   },
   "outputs": [],
   "source": [
    "# Importing the libraries\n",
    "import numpy as np\n",
    "import matplotlib.pyplot as plt\n",
    "import pandas as pd\n",
    "from sklearn.model_selection import cross_val_score\n",
    "from sklearn.metrics import confusion_matrix, recall_score, precision_score, f1_score, accuracy_score\n",
    "from sklearn.metrics import classification_report\n",
    "from statistics import stdev\n",
    "\n",
    "# importing utility modules\n",
    "import pandas as pd\n",
    "from sklearn.model_selection import train_test_split\n",
    "from sklearn.metrics import log_loss\n",
    "\n",
    "# importing machine learning models for prediction\n",
    "from sklearn.ensemble import RandomForestClassifier\n",
    "# from xgboost import XGBClassifier\n",
    "from sklearn.linear_model import LogisticRegression\n",
    "\n",
    "# importing voting classifier\n",
    "from sklearn.ensemble import VotingClassifier"
   ]
  },
  {
   "cell_type": "code",
   "execution_count": 109,
   "metadata": {
    "id": "huelkKX4c6bC"
   },
   "outputs": [],
   "source": [
    "# Importing the dataset\n",
    "dataset = pd.read_csv('https://raw.githubusercontent.com/DiogenesXXX/BDx/main/car_data2.csv')\n",
    "\n",
    "dataset.drop(dataset.columns[[0]], axis=1, inplace=True)\n",
    "\n",
    "X = dataset.iloc[:, [0, 1, 2]].values\n",
    "y = dataset.iloc[:, 3].values"
   ]
  },
  {
   "cell_type": "code",
   "execution_count": 110,
   "metadata": {
    "colab": {
     "base_uri": "https://localhost:8080/",
     "height": 300
    },
    "id": "ULzsEawkc6bD",
    "outputId": "a801d47f-a491-4676-9d19-a16606413535"
   },
   "outputs": [
    {
     "data": {
      "text/html": [
       "<div>\n",
       "<style scoped>\n",
       "    .dataframe tbody tr th:only-of-type {\n",
       "        vertical-align: middle;\n",
       "    }\n",
       "\n",
       "    .dataframe tbody tr th {\n",
       "        vertical-align: top;\n",
       "    }\n",
       "\n",
       "    .dataframe thead th {\n",
       "        text-align: right;\n",
       "    }\n",
       "</style>\n",
       "<table border=\"1\" class=\"dataframe\">\n",
       "  <thead>\n",
       "    <tr style=\"text-align: right;\">\n",
       "      <th></th>\n",
       "      <th>Gender</th>\n",
       "      <th>Age</th>\n",
       "      <th>AnnualSalary</th>\n",
       "      <th>Purchased</th>\n",
       "    </tr>\n",
       "  </thead>\n",
       "  <tbody>\n",
       "    <tr>\n",
       "      <th>count</th>\n",
       "      <td>1000.000000</td>\n",
       "      <td>1000.000000</td>\n",
       "      <td>1000.000000</td>\n",
       "      <td>1000.000000</td>\n",
       "    </tr>\n",
       "    <tr>\n",
       "      <th>mean</th>\n",
       "      <td>0.484000</td>\n",
       "      <td>40.106000</td>\n",
       "      <td>72689.000000</td>\n",
       "      <td>0.402000</td>\n",
       "    </tr>\n",
       "    <tr>\n",
       "      <th>std</th>\n",
       "      <td>0.499994</td>\n",
       "      <td>10.707073</td>\n",
       "      <td>34488.341867</td>\n",
       "      <td>0.490547</td>\n",
       "    </tr>\n",
       "    <tr>\n",
       "      <th>min</th>\n",
       "      <td>0.000000</td>\n",
       "      <td>18.000000</td>\n",
       "      <td>15000.000000</td>\n",
       "      <td>0.000000</td>\n",
       "    </tr>\n",
       "    <tr>\n",
       "      <th>25%</th>\n",
       "      <td>0.000000</td>\n",
       "      <td>32.000000</td>\n",
       "      <td>46375.000000</td>\n",
       "      <td>0.000000</td>\n",
       "    </tr>\n",
       "    <tr>\n",
       "      <th>50%</th>\n",
       "      <td>0.000000</td>\n",
       "      <td>40.000000</td>\n",
       "      <td>72000.000000</td>\n",
       "      <td>0.000000</td>\n",
       "    </tr>\n",
       "    <tr>\n",
       "      <th>75%</th>\n",
       "      <td>1.000000</td>\n",
       "      <td>48.000000</td>\n",
       "      <td>90000.000000</td>\n",
       "      <td>1.000000</td>\n",
       "    </tr>\n",
       "    <tr>\n",
       "      <th>max</th>\n",
       "      <td>1.000000</td>\n",
       "      <td>63.000000</td>\n",
       "      <td>152500.000000</td>\n",
       "      <td>1.000000</td>\n",
       "    </tr>\n",
       "  </tbody>\n",
       "</table>\n",
       "</div>"
      ],
      "text/plain": [
       "            Gender          Age   AnnualSalary    Purchased\n",
       "count  1000.000000  1000.000000    1000.000000  1000.000000\n",
       "mean      0.484000    40.106000   72689.000000     0.402000\n",
       "std       0.499994    10.707073   34488.341867     0.490547\n",
       "min       0.000000    18.000000   15000.000000     0.000000\n",
       "25%       0.000000    32.000000   46375.000000     0.000000\n",
       "50%       0.000000    40.000000   72000.000000     0.000000\n",
       "75%       1.000000    48.000000   90000.000000     1.000000\n",
       "max       1.000000    63.000000  152500.000000     1.000000"
      ]
     },
     "execution_count": 110,
     "metadata": {},
     "output_type": "execute_result"
    }
   ],
   "source": [
    "dataset.describe()"
   ]
  },
  {
   "cell_type": "code",
   "execution_count": 111,
   "metadata": {},
   "outputs": [
    {
     "data": {
      "text/plain": [
       "0    516\n",
       "1    484\n",
       "Name: Gender, dtype: int64"
      ]
     },
     "execution_count": 111,
     "metadata": {},
     "output_type": "execute_result"
    }
   ],
   "source": [
    "dataset[\"Gender\"].value_counts()"
   ]
  },
  {
   "cell_type": "code",
   "execution_count": 112,
   "metadata": {
    "colab": {
     "base_uri": "https://localhost:8080/"
    },
    "id": "s9lQqMISc6bD",
    "outputId": "4e408440-a3c4-4e2b-bcfc-ca0c075c8ad6"
   },
   "outputs": [
    {
     "data": {
      "text/plain": [
       "38    48\n",
       "40    46\n",
       "42    44\n",
       "36    44\n",
       "41    42\n",
       "35    38\n",
       "39    37\n",
       "49    33\n",
       "37    32\n",
       "48    32\n",
       "43    30\n",
       "27    29\n",
       "47    28\n",
       "28    25\n",
       "50    24\n",
       "45    23\n",
       "26    22\n",
       "29    22\n",
       "31    22\n",
       "46    22\n",
       "30    21\n",
       "32    20\n",
       "60    19\n",
       "51    19\n",
       "33    18\n",
       "44    17\n",
       "52    17\n",
       "59    16\n",
       "34    15\n",
       "25    15\n",
       "53    15\n",
       "24    15\n",
       "20    14\n",
       "58    14\n",
       "55    13\n",
       "61    13\n",
       "54    12\n",
       "19    12\n",
       "57    12\n",
       "21    11\n",
       "56    11\n",
       "23    11\n",
       "22     9\n",
       "63     7\n",
       "62     6\n",
       "18     5\n",
       "Name: Age, dtype: int64"
      ]
     },
     "execution_count": 112,
     "metadata": {},
     "output_type": "execute_result"
    }
   ],
   "source": [
    "dataset[\"Age\"].value_counts()\n"
   ]
  },
  {
   "cell_type": "code",
   "execution_count": 113,
   "metadata": {
    "colab": {
     "base_uri": "https://localhost:8080/"
    },
    "id": "u4FSfv9qc6bD",
    "outputId": "079c74dd-25b8-4a90-b79f-2468dbdf676a"
   },
   "outputs": [
    {
     "data": {
      "text/plain": [
       "81500     18\n",
       "73500     17\n",
       "76500     14\n",
       "80500     12\n",
       "62500     12\n",
       "          ..\n",
       "94500      1\n",
       "139000     1\n",
       "104500     1\n",
       "117500     1\n",
       "101000     1\n",
       "Name: AnnualSalary, Length: 247, dtype: int64"
      ]
     },
     "execution_count": 113,
     "metadata": {},
     "output_type": "execute_result"
    }
   ],
   "source": [
    "dataset[\"AnnualSalary\"].value_counts()\n"
   ]
  },
  {
   "cell_type": "code",
   "execution_count": 114,
   "metadata": {
    "colab": {
     "base_uri": "https://localhost:8080/"
    },
    "id": "IVUgOw_3c6bD",
    "outputId": "a4eda159-c78a-492f-a119-81dbdf74afb0"
   },
   "outputs": [
    {
     "data": {
      "text/plain": [
       "0    598\n",
       "1    402\n",
       "Name: Purchased, dtype: int64"
      ]
     },
     "execution_count": 114,
     "metadata": {},
     "output_type": "execute_result"
    }
   ],
   "source": [
    "dataset[\"Purchased\"].value_counts()\n"
   ]
  },
  {
   "cell_type": "code",
   "execution_count": 115,
   "metadata": {
    "colab": {
     "base_uri": "https://localhost:8080/",
     "height": 510
    },
    "id": "q2d5_NGDc6bE",
    "outputId": "cab88d7a-1e56-4a40-ba2c-0a821a42645a"
   },
   "outputs": [
    {
     "data": {
      "text/html": [
       "<div>\n",
       "<style scoped>\n",
       "    .dataframe tbody tr th:only-of-type {\n",
       "        vertical-align: middle;\n",
       "    }\n",
       "\n",
       "    .dataframe tbody tr th {\n",
       "        vertical-align: top;\n",
       "    }\n",
       "\n",
       "    .dataframe thead th {\n",
       "        text-align: right;\n",
       "    }\n",
       "</style>\n",
       "<table border=\"1\" class=\"dataframe\">\n",
       "  <thead>\n",
       "    <tr style=\"text-align: right;\">\n",
       "      <th></th>\n",
       "      <th></th>\n",
       "      <th>Gender</th>\n",
       "      <th>AnnualSalary</th>\n",
       "    </tr>\n",
       "    <tr>\n",
       "      <th>Age</th>\n",
       "      <th>Purchased</th>\n",
       "      <th></th>\n",
       "      <th></th>\n",
       "    </tr>\n",
       "  </thead>\n",
       "  <tbody>\n",
       "    <tr>\n",
       "      <th>18</th>\n",
       "      <th>0</th>\n",
       "      <td>0.400000</td>\n",
       "      <td>66400.000000</td>\n",
       "    </tr>\n",
       "    <tr>\n",
       "      <th>19</th>\n",
       "      <th>0</th>\n",
       "      <td>0.583333</td>\n",
       "      <td>55125.000000</td>\n",
       "    </tr>\n",
       "    <tr>\n",
       "      <th>20</th>\n",
       "      <th>0</th>\n",
       "      <td>0.571429</td>\n",
       "      <td>54607.142857</td>\n",
       "    </tr>\n",
       "    <tr>\n",
       "      <th>21</th>\n",
       "      <th>0</th>\n",
       "      <td>0.454545</td>\n",
       "      <td>62409.090909</td>\n",
       "    </tr>\n",
       "    <tr>\n",
       "      <th>22</th>\n",
       "      <th>0</th>\n",
       "      <td>0.444444</td>\n",
       "      <td>54888.888889</td>\n",
       "    </tr>\n",
       "    <tr>\n",
       "      <th>...</th>\n",
       "      <th>...</th>\n",
       "      <td>...</td>\n",
       "      <td>...</td>\n",
       "    </tr>\n",
       "    <tr>\n",
       "      <th>60</th>\n",
       "      <th>1</th>\n",
       "      <td>0.529412</td>\n",
       "      <td>74000.000000</td>\n",
       "    </tr>\n",
       "    <tr>\n",
       "      <th>61</th>\n",
       "      <th>1</th>\n",
       "      <td>0.461538</td>\n",
       "      <td>71576.923077</td>\n",
       "    </tr>\n",
       "    <tr>\n",
       "      <th rowspan=\"2\" valign=\"top\">62</th>\n",
       "      <th>0</th>\n",
       "      <td>0.000000</td>\n",
       "      <td>44500.000000</td>\n",
       "    </tr>\n",
       "    <tr>\n",
       "      <th>1</th>\n",
       "      <td>0.400000</td>\n",
       "      <td>95700.000000</td>\n",
       "    </tr>\n",
       "    <tr>\n",
       "      <th>63</th>\n",
       "      <th>1</th>\n",
       "      <td>0.714286</td>\n",
       "      <td>67785.714286</td>\n",
       "    </tr>\n",
       "  </tbody>\n",
       "</table>\n",
       "<p>78 rows × 2 columns</p>\n",
       "</div>"
      ],
      "text/plain": [
       "                 Gender  AnnualSalary\n",
       "Age Purchased                        \n",
       "18  0          0.400000  66400.000000\n",
       "19  0          0.583333  55125.000000\n",
       "20  0          0.571429  54607.142857\n",
       "21  0          0.454545  62409.090909\n",
       "22  0          0.444444  54888.888889\n",
       "...                 ...           ...\n",
       "60  1          0.529412  74000.000000\n",
       "61  1          0.461538  71576.923077\n",
       "62  0          0.000000  44500.000000\n",
       "    1          0.400000  95700.000000\n",
       "63  1          0.714286  67785.714286\n",
       "\n",
       "[78 rows x 2 columns]"
      ]
     },
     "execution_count": 115,
     "metadata": {},
     "output_type": "execute_result"
    }
   ],
   "source": [
    "dataset.groupby(['Age', 'Purchased']).mean()"
   ]
  },
  {
   "cell_type": "code",
   "execution_count": 116,
   "metadata": {
    "colab": {
     "base_uri": "https://localhost:8080/",
     "height": 510
    },
    "id": "ZpyXNMeoc6bE",
    "outputId": "ec0f0080-06cf-4c39-9fc5-b0fd960c53b4"
   },
   "outputs": [
    {
     "data": {
      "text/html": [
       "<div>\n",
       "<style scoped>\n",
       "    .dataframe tbody tr th:only-of-type {\n",
       "        vertical-align: middle;\n",
       "    }\n",
       "\n",
       "    .dataframe tbody tr th {\n",
       "        vertical-align: top;\n",
       "    }\n",
       "\n",
       "    .dataframe thead th {\n",
       "        text-align: right;\n",
       "    }\n",
       "</style>\n",
       "<table border=\"1\" class=\"dataframe\">\n",
       "  <thead>\n",
       "    <tr style=\"text-align: right;\">\n",
       "      <th></th>\n",
       "      <th></th>\n",
       "      <th>Gender</th>\n",
       "      <th>AnnualSalary</th>\n",
       "    </tr>\n",
       "    <tr>\n",
       "      <th>Age</th>\n",
       "      <th>Purchased</th>\n",
       "      <th></th>\n",
       "      <th></th>\n",
       "    </tr>\n",
       "  </thead>\n",
       "  <tbody>\n",
       "    <tr>\n",
       "      <th>18</th>\n",
       "      <th>0</th>\n",
       "      <td>0.547723</td>\n",
       "      <td>18297.540818</td>\n",
       "    </tr>\n",
       "    <tr>\n",
       "      <th>19</th>\n",
       "      <th>0</th>\n",
       "      <td>0.514929</td>\n",
       "      <td>26849.856103</td>\n",
       "    </tr>\n",
       "    <tr>\n",
       "      <th>20</th>\n",
       "      <th>0</th>\n",
       "      <td>0.513553</td>\n",
       "      <td>27434.662642</td>\n",
       "    </tr>\n",
       "    <tr>\n",
       "      <th>21</th>\n",
       "      <th>0</th>\n",
       "      <td>0.522233</td>\n",
       "      <td>26118.784602</td>\n",
       "    </tr>\n",
       "    <tr>\n",
       "      <th>22</th>\n",
       "      <th>0</th>\n",
       "      <td>0.527046</td>\n",
       "      <td>27481.559474</td>\n",
       "    </tr>\n",
       "    <tr>\n",
       "      <th>...</th>\n",
       "      <th>...</th>\n",
       "      <td>...</td>\n",
       "      <td>...</td>\n",
       "    </tr>\n",
       "    <tr>\n",
       "      <th>60</th>\n",
       "      <th>1</th>\n",
       "      <td>0.514496</td>\n",
       "      <td>38009.456060</td>\n",
       "    </tr>\n",
       "    <tr>\n",
       "      <th>61</th>\n",
       "      <th>1</th>\n",
       "      <td>0.518875</td>\n",
       "      <td>37597.565388</td>\n",
       "    </tr>\n",
       "    <tr>\n",
       "      <th rowspan=\"2\" valign=\"top\">62</th>\n",
       "      <th>0</th>\n",
       "      <td>NaN</td>\n",
       "      <td>NaN</td>\n",
       "    </tr>\n",
       "    <tr>\n",
       "      <th>1</th>\n",
       "      <td>0.547723</td>\n",
       "      <td>45493.955642</td>\n",
       "    </tr>\n",
       "    <tr>\n",
       "      <th>63</th>\n",
       "      <th>1</th>\n",
       "      <td>0.487950</td>\n",
       "      <td>31415.040377</td>\n",
       "    </tr>\n",
       "  </tbody>\n",
       "</table>\n",
       "<p>78 rows × 2 columns</p>\n",
       "</div>"
      ],
      "text/plain": [
       "                 Gender  AnnualSalary\n",
       "Age Purchased                        \n",
       "18  0          0.547723  18297.540818\n",
       "19  0          0.514929  26849.856103\n",
       "20  0          0.513553  27434.662642\n",
       "21  0          0.522233  26118.784602\n",
       "22  0          0.527046  27481.559474\n",
       "...                 ...           ...\n",
       "60  1          0.514496  38009.456060\n",
       "61  1          0.518875  37597.565388\n",
       "62  0               NaN           NaN\n",
       "    1          0.547723  45493.955642\n",
       "63  1          0.487950  31415.040377\n",
       "\n",
       "[78 rows x 2 columns]"
      ]
     },
     "execution_count": 116,
     "metadata": {},
     "output_type": "execute_result"
    }
   ],
   "source": [
    "dataset.groupby(['Age', 'Purchased']).std()"
   ]
  },
  {
   "cell_type": "code",
   "execution_count": 117,
   "metadata": {
    "colab": {
     "base_uri": "https://localhost:8080/"
    },
    "id": "zjV9MmZac6bE",
    "outputId": "69e48436-23bd-405a-b5f1-dae1818d19ed"
   },
   "outputs": [
    {
     "name": "stdout",
     "output_type": "stream",
     "text": [
      "<class 'pandas.core.frame.DataFrame'>\n",
      "RangeIndex: 1000 entries, 0 to 999\n",
      "Data columns (total 4 columns):\n",
      " #   Column        Non-Null Count  Dtype\n",
      "---  ------        --------------  -----\n",
      " 0   Gender        1000 non-null   int64\n",
      " 1   Age           1000 non-null   int64\n",
      " 2   AnnualSalary  1000 non-null   int64\n",
      " 3   Purchased     1000 non-null   int64\n",
      "dtypes: int64(4)\n",
      "memory usage: 31.4 KB\n"
     ]
    }
   ],
   "source": [
    "dataset.info()"
   ]
  },
  {
   "cell_type": "code",
   "execution_count": 118,
   "metadata": {
    "colab": {
     "base_uri": "https://localhost:8080/",
     "height": 1000
    },
    "id": "gUlkTygCc6bF",
    "outputId": "0e0dea04-338b-41b2-fe86-77b781f63728"
   },
   "outputs": [
    {
     "data": {
      "image/png": "[encoded data removed]",
      "text/plain": [
       "<Figure size 576x576 with 4 Axes>"
      ]
     },
     "metadata": {
      "needs_background": "light"
     },
     "output_type": "display_data"
    }
   ],
   "source": [
    "dataset.hist(figsize=(8, 8), bins=50, xlabelsize=8, ylabelsize=8); # ; avoid having the matplotlib verbose informations"
   ]
  },
  {
   "cell_type": "markdown",
   "metadata": {
    "id": "vPAHDHiPc6bF"
   },
   "source": [
    "## Splitting the Dataset and Feature Scaling"
   ]
  },
  {
   "cell_type": "code",
   "execution_count": 119,
   "metadata": {
    "id": "Af11sdaKc6bF"
   },
   "outputs": [],
   "source": [
    "# Splitting the dataset into the Training set and Test set\n",
    "from sklearn.model_selection import train_test_split\n",
    "X_train, X_test, y_train, y_test = train_test_split(X, y, test_size = 0.25, random_state = 0)"
   ]
  },
  {
   "cell_type": "code",
   "execution_count": 120,
   "metadata": {
    "id": "aPwKxEx-c6bF"
   },
   "outputs": [],
   "source": [
    "# Feature Scaling\n",
    "from sklearn.preprocessing import StandardScaler\n",
    "sc_X = StandardScaler()\n",
    "X_train = sc_X.fit_transform(X_train)\n",
    "X_test = sc_X.transform(X_test)"
   ]
  },
  {
   "cell_type": "markdown",
   "metadata": {
    "id": "k7krsZfPc6bF"
   },
   "source": [
    "## 1)Logistic Regression"
   ]
  },
  {
   "cell_type": "code",
   "execution_count": 121,
   "metadata": {
    "colab": {
     "base_uri": "https://localhost:8080/",
     "height": 74
    },
    "id": "pdagyxJ6c6bF",
    "outputId": "74bd7721-d7cd-4ed6-8291-43e95a250699"
   },
   "outputs": [
    {
     "data": {
      "text/plain": [
       "LogisticRegression(random_state=0)"
      ]
     },
     "execution_count": 121,
     "metadata": {},
     "output_type": "execute_result"
    }
   ],
   "source": [
    "# fitting logistic regresion to the training set\n",
    "from sklearn.linear_model import LogisticRegression\n",
    "classi = LogisticRegression(random_state = 0)\n",
    "classi.fit(X_train, y_train)"
   ]
  },
  {
   "cell_type": "code",
   "execution_count": 122,
   "metadata": {
    "id": "qXBigr9Dc6bF"
   },
   "outputs": [],
   "source": [
    "#predict the test set results\n",
    "y_pred = classi.predict(X_test)"
   ]
  },
  {
   "cell_type": "code",
   "execution_count": 123,
   "metadata": {},
   "outputs": [
    {
     "name": "stdout",
     "output_type": "stream",
     "text": [
      "              precision    recall  f1-score   support\n",
      "\n",
      "           0       0.85      0.91      0.88       152\n",
      "           1       0.85      0.74      0.79        98\n",
      "\n",
      "    accuracy                           0.85       250\n",
      "   macro avg       0.85      0.83      0.84       250\n",
      "weighted avg       0.85      0.85      0.85       250\n",
      "\n"
     ]
    }
   ],
   "source": [
    "# Classification report\n",
    "print(classification_report(y_test, y_pred))"
   ]
  },
  {
   "cell_type": "code",
   "execution_count": 124,
   "metadata": {
    "id": "_OYB3-7mc6bF"
   },
   "outputs": [],
   "source": [
    "#making the confusion matrix\n",
    "from sklearn.metrics import confusion_matrix\n",
    "cm = confusion_matrix(y_test, y_pred)"
   ]
  },
  {
   "cell_type": "code",
   "execution_count": 125,
   "metadata": {
    "colab": {
     "base_uri": "https://localhost:8080/"
    },
    "id": "Y7poMfUxc6bF",
    "outputId": "a86a2fa6-d36d-4d9b-ffdf-3ca4ce4c33e2"
   },
   "outputs": [
    {
     "name": "stdout",
     "output_type": "stream",
     "text": [
      "[[139  13]\n",
      " [ 25  73]]\n"
     ]
    }
   ],
   "source": [
    "print(cm)    #confusion Matrix"
   ]
  },
  {
   "cell_type": "code",
   "execution_count": 126,
   "metadata": {},
   "outputs": [
    {
     "name": "stdout",
     "output_type": "stream",
     "text": [
      "Cross Validation Recall scores are: [0.65       0.72131148 0.68852459 0.70491803 0.73770492]\n",
      "Average Cross Validation Recall score:  0.7004918032786887\n",
      "Cross Validation Recall standard deviation:  0.03365450398192318\n"
     ]
    }
   ],
   "source": [
    "from statistics import stdev\n",
    "\n",
    "classi_Recall = recall_score(y_test, y_pred)\n",
    "classi_Precision = precision_score(y_test, y_pred)\n",
    "classi_f1 = f1_score(y_test, y_pred)\n",
    "classi_accuracy = accuracy_score(y_test, y_pred)\n",
    "\n",
    "score = cross_val_score(classi, X_train, y_train, cv=5, scoring='recall')\n",
    "classi_cv_score = score.mean()\n",
    "classi_cv_stdev = stdev(score)\n",
    "print('Cross Validation Recall scores are: {}'.format(score))\n",
    "print('Average Cross Validation Recall score: ', classi_cv_score)\n",
    "print('Cross Validation Recall standard deviation: ', classi_cv_stdev)\n"
   ]
  },
  {
   "cell_type": "markdown",
   "metadata": {
    "id": "yXJvvhtfc6bG"
   },
   "source": [
    "## 2) K_nearest neighbors[KNN]\n"
   ]
  },
  {
   "cell_type": "code",
   "execution_count": 127,
   "metadata": {
    "colab": {
     "base_uri": "https://localhost:8080/",
     "height": 74
    },
    "id": "IzS3VxQ2c6bG",
    "outputId": "990519ff-7dab-4dc6-da8f-fbd7c4122bb2"
   },
   "outputs": [
    {
     "data": {
      "text/plain": [
       "KNeighborsClassifier()"
      ]
     },
     "execution_count": 127,
     "metadata": {},
     "output_type": "execute_result"
    }
   ],
   "source": [
    "# fitting classifier to the training set\n",
    "from sklearn.neighbors import KNeighborsClassifier\n",
    "classi1 = KNeighborsClassifier(n_neighbors = 5, p=2, metric = 'minkowski')\n",
    "classi1.fit(X_train, y_train)"
   ]
  },
  {
   "cell_type": "code",
   "execution_count": 128,
   "metadata": {
    "id": "oHLVlF-Sc6bH"
   },
   "outputs": [],
   "source": [
    "#predict the test set results\n",
    "y_pred1 = classi1.predict(X_test)"
   ]
  },
  {
   "cell_type": "code",
   "execution_count": 129,
   "metadata": {},
   "outputs": [
    {
     "name": "stdout",
     "output_type": "stream",
     "text": [
      "              precision    recall  f1-score   support\n",
      "\n",
      "           0       0.91      0.91      0.91       152\n",
      "           1       0.86      0.87      0.86        98\n",
      "\n",
      "    accuracy                           0.89       250\n",
      "   macro avg       0.89      0.89      0.89       250\n",
      "weighted avg       0.89      0.89      0.89       250\n",
      "\n"
     ]
    }
   ],
   "source": [
    "# Classification report\n",
    "print(classification_report(y_test, y_pred1))"
   ]
  },
  {
   "cell_type": "code",
   "execution_count": 130,
   "metadata": {
    "colab": {
     "base_uri": "https://localhost:8080/"
    },
    "id": "9-U8LpWtc6bH",
    "outputId": "994c2df8-d7bf-4410-f299-aa4d2303b665"
   },
   "outputs": [
    {
     "name": "stdout",
     "output_type": "stream",
     "text": [
      "[[138  14]\n",
      " [ 13  85]]\n"
     ]
    }
   ],
   "source": [
    "#making the confusion matrix\n",
    "from sklearn.metrics import confusion_matrix\n",
    "cm1 = confusion_matrix(y_test, y_pred1)\n",
    "print(cm1)"
   ]
  },
  {
   "cell_type": "code",
   "execution_count": 131,
   "metadata": {},
   "outputs": [
    {
     "name": "stdout",
     "output_type": "stream",
     "text": [
      "Cross Validation Recall scores are: [0.85       0.90163934 0.90163934 0.96721311 0.85245902]\n",
      "Average Cross Validation Recall score:  0.8945901639344263\n",
      "Cross Validation Recall standard deviation:  0.047793281915885624\n"
     ]
    }
   ],
   "source": [
    "classi1_Recall = recall_score(y_test, y_pred1)\n",
    "classi1_Precision = precision_score(y_test, y_pred1)\n",
    "classi1_f1 = f1_score(y_test, y_pred1)\n",
    "classi1_accuracy = accuracy_score(y_test, y_pred1)\n",
    "\n",
    "score = cross_val_score(classi1, X_train, y_train, cv=5, scoring='recall')\n",
    "classi1_cv_score = score.mean()\n",
    "classi1_cv_stdev = stdev(score)\n",
    "print('Cross Validation Recall scores are: {}'.format(score))\n",
    "print('Average Cross Validation Recall score: ', classi1_cv_score)\n",
    "print('Cross Validation Recall standard deviation: ', classi1_cv_stdev)"
   ]
  },
  {
   "cell_type": "markdown",
   "metadata": {
    "id": "W9bipr9hc6bI"
   },
   "source": [
    "## 3) Decision tree classification"
   ]
  },
  {
   "cell_type": "code",
   "execution_count": 132,
   "metadata": {
    "colab": {
     "base_uri": "https://localhost:8080/",
     "height": 74
    },
    "id": "ITpApYV4c6bI",
    "outputId": "73c0d6a6-e6fe-423c-dd80-1e548121a5cf"
   },
   "outputs": [
    {
     "data": {
      "text/plain": [
       "DecisionTreeClassifier(criterion='entropy', random_state=0)"
      ]
     },
     "execution_count": 132,
     "metadata": {},
     "output_type": "execute_result"
    }
   ],
   "source": [
    "# fitting classifier to the training set\n",
    "from sklearn.tree import DecisionTreeClassifier\n",
    "classi2 = DecisionTreeClassifier(criterion = 'entropy', random_state = 0)\n",
    "classi2.fit(X_train, y_train)"
   ]
  },
  {
   "cell_type": "code",
   "execution_count": 133,
   "metadata": {
    "id": "2HQymaFec6bI"
   },
   "outputs": [],
   "source": [
    "#predict the test set results\n",
    "y_pred2 = classi2.predict(X_test)"
   ]
  },
  {
   "cell_type": "code",
   "execution_count": 134,
   "metadata": {},
   "outputs": [
    {
     "name": "stdout",
     "output_type": "stream",
     "text": [
      "              precision    recall  f1-score   support\n",
      "\n",
      "           0       0.88      0.91      0.90       152\n",
      "           1       0.86      0.81      0.83        98\n",
      "\n",
      "    accuracy                           0.87       250\n",
      "   macro avg       0.87      0.86      0.86       250\n",
      "weighted avg       0.87      0.87      0.87       250\n",
      "\n"
     ]
    }
   ],
   "source": [
    "# Classification report\n",
    "print(classification_report(y_test, y_pred2))"
   ]
  },
  {
   "cell_type": "code",
   "execution_count": 135,
   "metadata": {
    "colab": {
     "base_uri": "https://localhost:8080/"
    },
    "id": "-cFqgMaPc6bI",
    "outputId": "63668da3-78db-44fb-dba9-eced5a36f830"
   },
   "outputs": [
    {
     "name": "stdout",
     "output_type": "stream",
     "text": [
      "[[139  13]\n",
      " [ 19  79]]\n"
     ]
    }
   ],
   "source": [
    "cm2 = confusion_matrix(y_test, y_pred2)\n",
    "print(cm2)"
   ]
  },
  {
   "cell_type": "code",
   "execution_count": 136,
   "metadata": {},
   "outputs": [
    {
     "name": "stdout",
     "output_type": "stream",
     "text": [
      "Cross Validation Recall scores are: [0.75       0.85245902 0.78688525 0.90163934 0.83606557]\n",
      "Average Cross Validation Recall score:  0.8254098360655737\n",
      "Cross Validation Recall standard deviation:  0.058793979804686224\n"
     ]
    }
   ],
   "source": [
    "classi2_Recall = recall_score(y_test, y_pred2)\n",
    "classi2_Precision = precision_score(y_test, y_pred2)\n",
    "classi2_f1 = f1_score(y_test, y_pred2)\n",
    "classi2_accuracy = accuracy_score(y_test, y_pred2)\n",
    "\n",
    "score = cross_val_score(classi2, X_train, y_train, cv=5, scoring='recall')\n",
    "classi2_cv_score = score.mean()\n",
    "classi2_cv_stdev = stdev(score)\n",
    "print('Cross Validation Recall scores are: {}'.format(score))\n",
    "print('Average Cross Validation Recall score: ', classi2_cv_score)\n",
    "print('Cross Validation Recall standard deviation: ', classi2_cv_stdev)"
   ]
  },
  {
   "cell_type": "markdown",
   "metadata": {
    "id": "P0KGMT90c6bI"
   },
   "source": [
    "## 4) random forest classification"
   ]
  },
  {
   "cell_type": "code",
   "execution_count": 137,
   "metadata": {
    "colab": {
     "base_uri": "https://localhost:8080/",
     "height": 74
    },
    "id": "9TyGzpOOc6bJ",
    "outputId": "33bdfc6e-71fc-4ff4-943a-55dd27b6c6c5"
   },
   "outputs": [
    {
     "data": {
      "text/plain": [
       "RandomForestClassifier(criterion='entropy', n_estimators=10, random_state=0)"
      ]
     },
     "execution_count": 137,
     "metadata": {},
     "output_type": "execute_result"
    }
   ],
   "source": [
    "# fitting random forest classifier to the training set\n",
    "from sklearn.ensemble import RandomForestClassifier\n",
    "classi3 = RandomForestClassifier(criterion = 'entropy', n_estimators = 10, random_state = 0)\n",
    "classi3.fit(X_train, y_train)"
   ]
  },
  {
   "cell_type": "code",
   "execution_count": 138,
   "metadata": {
    "id": "X1vqbuS5c6bJ"
   },
   "outputs": [],
   "source": [
    "#predict the test set results\n",
    "y_pred3 = classi3.predict(X_test)"
   ]
  },
  {
   "cell_type": "code",
   "execution_count": 139,
   "metadata": {},
   "outputs": [
    {
     "name": "stdout",
     "output_type": "stream",
     "text": [
      "              precision    recall  f1-score   support\n",
      "\n",
      "           0       0.88      0.93      0.90       152\n",
      "           1       0.88      0.81      0.84        98\n",
      "\n",
      "    accuracy                           0.88       250\n",
      "   macro avg       0.88      0.87      0.87       250\n",
      "weighted avg       0.88      0.88      0.88       250\n",
      "\n"
     ]
    }
   ],
   "source": [
    "# Classification report\n",
    "print(classification_report(y_test, y_pred3))"
   ]
  },
  {
   "cell_type": "code",
   "execution_count": 140,
   "metadata": {
    "colab": {
     "base_uri": "https://localhost:8080/"
    },
    "id": "9S4y4U4Jc6bJ",
    "outputId": "61e6956d-ebf9-48c4-bbc0-6bf0dfd8cf84"
   },
   "outputs": [
    {
     "name": "stdout",
     "output_type": "stream",
     "text": [
      "[[141  11]\n",
      " [ 19  79]]\n"
     ]
    }
   ],
   "source": [
    "cm3 = confusion_matrix(y_test, y_pred3)\n",
    "print(cm3)"
   ]
  },
  {
   "cell_type": "code",
   "execution_count": 141,
   "metadata": {},
   "outputs": [
    {
     "name": "stdout",
     "output_type": "stream",
     "text": [
      "Cross Validation Recall scores are: [0.81666667 0.86885246 0.8852459  0.95081967 0.85245902]\n",
      "Average Cross Validation Recall score:  0.8748087431693989\n",
      "Cross Validation Recall standard deviation:  0.04950273797093337\n"
     ]
    }
   ],
   "source": [
    "classi3_Recall = recall_score(y_test, y_pred3)\n",
    "classi3_Precision = precision_score(y_test, y_pred3)\n",
    "classi3_f1 = f1_score(y_test, y_pred3)\n",
    "classi3_accuracy = accuracy_score(y_test, y_pred3)\n",
    "\n",
    "score = cross_val_score(classi3, X_train, y_train, cv=5, scoring='recall')\n",
    "classi3_cv_score = score.mean()\n",
    "classi3_cv_stdev = stdev(score)\n",
    "print('Cross Validation Recall scores are: {}'.format(score))\n",
    "print('Average Cross Validation Recall score: ', classi3_cv_score)\n",
    "print('Cross Validation Recall standard deviation: ', classi3_cv_stdev)"
   ]
  },
  {
   "cell_type": "markdown",
   "metadata": {
    "id": "8Pi8MS_Qc6bK"
   },
   "source": [
    "## 5) Support Vector Machine (SVM) classification"
   ]
  },
  {
   "cell_type": "code",
   "execution_count": 142,
   "metadata": {
    "colab": {
     "base_uri": "https://localhost:8080/",
     "height": 74
    },
    "id": "O8r_nx7Bc6bK",
    "outputId": "82c02f40-b329-4674-9696-4983a6e42f64"
   },
   "outputs": [
    {
     "data": {
      "text/plain": [
       "SVC(random_state=0)"
      ]
     },
     "execution_count": 142,
     "metadata": {},
     "output_type": "execute_result"
    }
   ],
   "source": [
    "# fitting SVM to the training set\n",
    "from sklearn.svm import SVC\n",
    "classi4 = SVC(kernel='rbf', random_state = 0)\n",
    "classi4.fit(X_train, y_train)\n"
   ]
  },
  {
   "cell_type": "code",
   "execution_count": 143,
   "metadata": {
    "id": "lpFTMLTKc6bK"
   },
   "outputs": [],
   "source": [
    "#predict the test set results\n",
    "y_pred4 = classi4.predict(X_test)"
   ]
  },
  {
   "cell_type": "code",
   "execution_count": 144,
   "metadata": {},
   "outputs": [
    {
     "name": "stdout",
     "output_type": "stream",
     "text": [
      "              precision    recall  f1-score   support\n",
      "\n",
      "           0       0.92      0.91      0.92       152\n",
      "           1       0.87      0.88      0.87        98\n",
      "\n",
      "    accuracy                           0.90       250\n",
      "   macro avg       0.89      0.90      0.90       250\n",
      "weighted avg       0.90      0.90      0.90       250\n",
      "\n"
     ]
    }
   ],
   "source": [
    "# Classification report\n",
    "print(classification_report(y_test, y_pred4))"
   ]
  },
  {
   "cell_type": "code",
   "execution_count": 145,
   "metadata": {
    "id": "ZLZRg-qhc6bK"
   },
   "outputs": [],
   "source": [
    "#making the confusion matrix\n",
    "from sklearn.metrics import confusion_matrix\n",
    "cm4 = confusion_matrix(y_test, y_pred4)"
   ]
  },
  {
   "cell_type": "code",
   "execution_count": 146,
   "metadata": {
    "colab": {
     "base_uri": "https://localhost:8080/"
    },
    "id": "mVCc0y1zc6bK",
    "outputId": "50650c69-54b7-46b9-9866-7e0524ca81dc"
   },
   "outputs": [
    {
     "name": "stdout",
     "output_type": "stream",
     "text": [
      "[[139  13]\n",
      " [ 12  86]]\n"
     ]
    }
   ],
   "source": [
    "print(cm4)"
   ]
  },
  {
   "cell_type": "code",
   "execution_count": 147,
   "metadata": {},
   "outputs": [
    {
     "name": "stdout",
     "output_type": "stream",
     "text": [
      "Cross Validation Recall scores are: [0.83333333 0.8852459  0.95081967 0.93442623 0.86885246]\n",
      "Average Cross Validation Recall score:  0.894535519125683\n",
      "Cross Validation Recall standard deviation:  0.04809053641244108\n"
     ]
    }
   ],
   "source": [
    "classi4_Recall = recall_score(y_test, y_pred4)\n",
    "classi4_Precision = precision_score(y_test, y_pred4)\n",
    "classi4_f1 = f1_score(y_test, y_pred4)\n",
    "classi4_accuracy = accuracy_score(y_test, y_pred4)\n",
    "\n",
    "score = cross_val_score(classi4, X_train, y_train, cv=5, scoring='recall')\n",
    "classi4_cv_score = score.mean()\n",
    "classi4_cv_stdev = stdev(score)\n",
    "print('Cross Validation Recall scores are: {}'.format(score))\n",
    "print('Average Cross Validation Recall score: ', classi4_cv_score)\n",
    "print('Cross Validation Recall standard deviation: ', classi4_cv_stdev)"
   ]
  },
  {
   "cell_type": "markdown",
   "metadata": {
    "id": "c1GHOOj9c6bL"
   },
   "source": [
    "## 6) Naive bayes"
   ]
  },
  {
   "cell_type": "code",
   "execution_count": 148,
   "metadata": {
    "colab": {
     "base_uri": "https://localhost:8080/",
     "height": 74
    },
    "id": "oIVcAAunc6bL",
    "outputId": "12113fc6-704e-45f1-b24e-986b7ce2e8d8"
   },
   "outputs": [
    {
     "data": {
      "text/plain": [
       "GaussianNB()"
      ]
     },
     "execution_count": 148,
     "metadata": {},
     "output_type": "execute_result"
    }
   ],
   "source": [
    "# fitting Naive Bayes to the training set\n",
    "from sklearn.naive_bayes import GaussianNB\n",
    "classi5 = GaussianNB()\n",
    "classi5.fit(X_train, y_train)"
   ]
  },
  {
   "cell_type": "code",
   "execution_count": 149,
   "metadata": {
    "id": "yZLbZPNSc6bL"
   },
   "outputs": [],
   "source": [
    "#predict the test set results\n",
    "y_pred5 = classi5.predict(X_test)"
   ]
  },
  {
   "cell_type": "code",
   "execution_count": 150,
   "metadata": {},
   "outputs": [
    {
     "name": "stdout",
     "output_type": "stream",
     "text": [
      "              precision    recall  f1-score   support\n",
      "\n",
      "           0       0.89      0.91      0.90       152\n",
      "           1       0.86      0.83      0.84        98\n",
      "\n",
      "    accuracy                           0.88       250\n",
      "   macro avg       0.88      0.87      0.87       250\n",
      "weighted avg       0.88      0.88      0.88       250\n",
      "\n"
     ]
    }
   ],
   "source": [
    "# Classification report\n",
    "print(classification_report(y_test, y_pred5))"
   ]
  },
  {
   "cell_type": "code",
   "execution_count": 151,
   "metadata": {
    "id": "Y_1m4fPhc6bL"
   },
   "outputs": [
    {
     "name": "stdout",
     "output_type": "stream",
     "text": [
      "[[139  13]\n",
      " [ 17  81]]\n"
     ]
    }
   ],
   "source": [
    "cm5 = confusion_matrix(y_test, y_pred5)\n",
    "print(cm5)"
   ]
  },
  {
   "cell_type": "code",
   "execution_count": 152,
   "metadata": {},
   "outputs": [
    {
     "name": "stdout",
     "output_type": "stream",
     "text": [
      "Cross Validation Recall scores are: [0.73333333 0.81967213 0.86885246 0.7704918  0.83606557]\n",
      "Average Cross Validation Recall score:  0.8056830601092896\n",
      "Cross Validation Recall standard deviation:  0.053810017015988885\n"
     ]
    }
   ],
   "source": [
    "classi5_Recall = recall_score(y_test, y_pred5)\n",
    "classi5_Precision = precision_score(y_test, y_pred5)\n",
    "classi5_f1 = f1_score(y_test, y_pred5)\n",
    "classi5_accuracy = accuracy_score(y_test, y_pred5)\n",
    "\n",
    "score = cross_val_score(classi5, X_train, y_train, cv=5, scoring='recall')\n",
    "classi5_cv_score = score.mean()\n",
    "classi5_cv_stdev = stdev(score)\n",
    "print('Cross Validation Recall scores are: {}'.format(score))\n",
    "print('Average Cross Validation Recall score: ', classi5_cv_score)\n",
    "print('Cross Validation Recall standard deviation: ', classi5_cv_stdev)"
   ]
  },
  {
   "cell_type": "markdown",
   "metadata": {
    "id": "R7L1a8FvF79e"
   },
   "source": [
    "### Voting Classifier for Better Results"
   ]
  },
  {
   "cell_type": "code",
   "execution_count": 153,
   "metadata": {
    "id": "CSos3X9bzmwz"
   },
   "outputs": [],
   "source": [
    "# importing utility modules\n",
    "import pandas as pd\n",
    "from sklearn.model_selection import train_test_split\n",
    "from sklearn.metrics import log_loss\n",
    "\n",
    "# importing machine learning models for prediction\n",
    "from sklearn.ensemble import RandomForestClassifier\n",
    "# from xgboost import XGBClassifier\n",
    "from sklearn.linear_model import LogisticRegression\n",
    "\n",
    "# importing voting classifier\n",
    "from sklearn.ensemble import VotingClassifier\n",
    "\n",
    "model_1 = LogisticRegression(random_state = 0)\n",
    "model_2 = KNeighborsClassifier(n_neighbors = 5, p=2, metric = 'minkowski')\n",
    "model_3 = DecisionTreeClassifier(criterion = 'entropy', random_state = 0)\n",
    "model_4 = RandomForestClassifier(criterion = 'entropy', n_estimators = 10, random_state = 0)\n",
    "model_5 = SVC(kernel='rbf', random_state = 0)\n",
    "model_6 = GaussianNB()\n",
    "\n",
    "estimator = []\n",
    "estimator.append(('LogisticRegression', model_1))\n",
    "estimator.append(('KNeighborsClassifier', model_2))\n",
    "estimator.append(('DecisionTreeClassifier', model_3))\n",
    "estimator.append(('RandomForestClassifier', model_4))\n",
    "estimator.append(('SVC', model_5))\n",
    "estimator.append(('GaussianNB', model_6))\n"
   ]
  },
  {
   "cell_type": "markdown",
   "metadata": {
    "id": "5QT_9P2tBK_1"
   },
   "source": [
    "## Voting Classifier with hard voting"
   ]
  },
  {
   "cell_type": "code",
   "execution_count": 154,
   "metadata": {
    "colab": {
     "base_uri": "https://localhost:8080/"
    },
    "id": "Vn4Aa8Y1BX9r",
    "outputId": "6efe8031-5091-4b2c-ff90-6ce222665f89"
   },
   "outputs": [
    {
     "name": "stdout",
     "output_type": "stream",
     "text": [
      "              precision    recall  f1-score   support\n",
      "\n",
      "           0       0.90      0.92      0.91       152\n",
      "           1       0.87      0.84      0.85        98\n",
      "\n",
      "    accuracy                           0.89       250\n",
      "   macro avg       0.88      0.88      0.88       250\n",
      "weighted avg       0.89      0.89      0.89       250\n",
      "\n"
     ]
    }
   ],
   "source": [
    "from sklearn.model_selection import cross_val_score\n",
    "from sklearn.metrics import confusion_matrix, recall_score, precision_score, f1_score, accuracy_score\n",
    "from sklearn.metrics import classification_report\n",
    "\n",
    "VC_hard = VotingClassifier(estimators = estimator, voting ='hard')\n",
    "VC_hard.fit(X_train, y_train)\n",
    "y_pred6 = VC_hard.predict(X_test)\n",
    "\n",
    "# 5.1 Classification report\n",
    "print(classification_report(y_test, y_pred6))\n"
   ]
  },
  {
   "cell_type": "code",
   "execution_count": 155,
   "metadata": {
    "colab": {
     "base_uri": "https://localhost:8080/"
    },
    "id": "ze7dGE6eDXKg",
    "outputId": "00260130-2a38-4b5c-8658-70f687d247ee"
   },
   "outputs": [
    {
     "name": "stdout",
     "output_type": "stream",
     "text": [
      "[[140  12]\n",
      " [ 16  82]]\n"
     ]
    }
   ],
   "source": [
    "# 5.2 Confusion matrix\n",
    "cm6 = confusion_matrix(y_test, y_pred6)\n",
    "print(cm6)"
   ]
  },
  {
   "cell_type": "code",
   "execution_count": 156,
   "metadata": {
    "colab": {
     "base_uri": "https://localhost:8080/"
    },
    "id": "FRX0ymvzEBTy",
    "outputId": "8f103bb7-a17e-42a1-d306-2d3ae52b2881"
   },
   "outputs": [
    {
     "name": "stdout",
     "output_type": "stream",
     "text": [
      "Cross Validation Recall scores are: [0.75       0.86885246 0.8852459  0.93442623 0.83606557]\n",
      "Average Cross Validation Recall score:  0.8549180327868852\n",
      "Cross Validation Recall standard deviation:  0.06855419393477515\n"
     ]
    }
   ],
   "source": [
    "from statistics import stdev\n",
    "\n",
    "VC_hard_Recall = recall_score(y_test, y_pred6)\n",
    "VC_hard_Precision = precision_score(y_test, y_pred6)\n",
    "VC_hard_f1 = f1_score(y_test, y_pred6)\n",
    "VC_hard_accuracy = accuracy_score(y_test, y_pred6)\n",
    "\n",
    "score = cross_val_score(VC_hard, X_train, y_train, cv=5, scoring='recall')\n",
    "VC_hard_cv_score = score.mean()\n",
    "VC_hard_cv_stdev = stdev(score)\n",
    "print('Cross Validation Recall scores are: {}'.format(score))\n",
    "print('Average Cross Validation Recall score: ', VC_hard_cv_score)\n",
    "print('Cross Validation Recall standard deviation: ', VC_hard_cv_stdev)"
   ]
  },
  {
   "cell_type": "code",
   "execution_count": 157,
   "metadata": {
    "colab": {
     "base_uri": "https://localhost:8080/",
     "height": 81
    },
    "id": "wrWYYCcAFFBv",
    "outputId": "8b4bc7a2-9017-48be-ca74-417a74c51f88"
   },
   "outputs": [
    {
     "data": {
      "text/html": [
       "<div>\n",
       "<style scoped>\n",
       "    .dataframe tbody tr th:only-of-type {\n",
       "        vertical-align: middle;\n",
       "    }\n",
       "\n",
       "    .dataframe tbody tr th {\n",
       "        vertical-align: top;\n",
       "    }\n",
       "\n",
       "    .dataframe thead th {\n",
       "        text-align: right;\n",
       "    }\n",
       "</style>\n",
       "<table border=\"1\" class=\"dataframe\">\n",
       "  <thead>\n",
       "    <tr style=\"text-align: right;\">\n",
       "      <th></th>\n",
       "      <th>Voting Classifier</th>\n",
       "      <th>Recall</th>\n",
       "      <th>Precision</th>\n",
       "      <th>F1 Score</th>\n",
       "      <th>Accuracy</th>\n",
       "      <th>Avg CV Recall</th>\n",
       "      <th>Standard Deviation of CV Recall</th>\n",
       "    </tr>\n",
       "  </thead>\n",
       "  <tbody>\n",
       "    <tr>\n",
       "      <th>0</th>\n",
       "      <td>Hard Voting</td>\n",
       "      <td>0.836735</td>\n",
       "      <td>0.872340</td>\n",
       "      <td>0.854167</td>\n",
       "      <td>0.888</td>\n",
       "      <td>0.854918</td>\n",
       "      <td>0.068554</td>\n",
       "    </tr>\n",
       "    <tr>\n",
       "      <th>1</th>\n",
       "      <td>LogisticRegression</td>\n",
       "      <td>0.744898</td>\n",
       "      <td>0.848837</td>\n",
       "      <td>0.793478</td>\n",
       "      <td>0.848</td>\n",
       "      <td>0.700492</td>\n",
       "      <td>0.033655</td>\n",
       "    </tr>\n",
       "    <tr>\n",
       "      <th>2</th>\n",
       "      <td>KNeighborsClassifier</td>\n",
       "      <td>0.867347</td>\n",
       "      <td>0.858586</td>\n",
       "      <td>0.862944</td>\n",
       "      <td>0.892</td>\n",
       "      <td>0.894590</td>\n",
       "      <td>0.047793</td>\n",
       "    </tr>\n",
       "    <tr>\n",
       "      <th>3</th>\n",
       "      <td>DecisionTreeClassifier</td>\n",
       "      <td>0.806122</td>\n",
       "      <td>0.858696</td>\n",
       "      <td>0.831579</td>\n",
       "      <td>0.872</td>\n",
       "      <td>0.825410</td>\n",
       "      <td>0.058794</td>\n",
       "    </tr>\n",
       "    <tr>\n",
       "      <th>4</th>\n",
       "      <td>RandomForestClassifier</td>\n",
       "      <td>0.806122</td>\n",
       "      <td>0.877778</td>\n",
       "      <td>0.840426</td>\n",
       "      <td>0.880</td>\n",
       "      <td>0.874809</td>\n",
       "      <td>0.049503</td>\n",
       "    </tr>\n",
       "    <tr>\n",
       "      <th>5</th>\n",
       "      <td>SVC</td>\n",
       "      <td>0.877551</td>\n",
       "      <td>0.868687</td>\n",
       "      <td>0.873096</td>\n",
       "      <td>0.900</td>\n",
       "      <td>0.894536</td>\n",
       "      <td>0.048091</td>\n",
       "    </tr>\n",
       "    <tr>\n",
       "      <th>6</th>\n",
       "      <td>GaussianNB</td>\n",
       "      <td>0.826531</td>\n",
       "      <td>0.861702</td>\n",
       "      <td>0.843750</td>\n",
       "      <td>0.880</td>\n",
       "      <td>0.805683</td>\n",
       "      <td>0.053810</td>\n",
       "    </tr>\n",
       "  </tbody>\n",
       "</table>\n",
       "</div>"
      ],
      "text/plain": [
       "        Voting Classifier    Recall  Precision  F1 Score  Accuracy  \\\n",
       "0             Hard Voting  0.836735   0.872340  0.854167     0.888   \n",
       "1      LogisticRegression  0.744898   0.848837  0.793478     0.848   \n",
       "2    KNeighborsClassifier  0.867347   0.858586  0.862944     0.892   \n",
       "3  DecisionTreeClassifier  0.806122   0.858696  0.831579     0.872   \n",
       "4  RandomForestClassifier  0.806122   0.877778  0.840426     0.880   \n",
       "5                     SVC  0.877551   0.868687  0.873096     0.900   \n",
       "6              GaussianNB  0.826531   0.861702  0.843750     0.880   \n",
       "\n",
       "   Avg CV Recall  Standard Deviation of CV Recall  \n",
       "0       0.854918                         0.068554  \n",
       "1       0.700492                         0.033655  \n",
       "2       0.894590                         0.047793  \n",
       "3       0.825410                         0.058794  \n",
       "4       0.874809                         0.049503  \n",
       "5       0.894536                         0.048091  \n",
       "6       0.805683                         0.053810  "
      ]
     },
     "execution_count": 157,
     "metadata": {},
     "output_type": "execute_result"
    }
   ],
   "source": [
    "ndf = [( VC_hard_Recall, VC_hard_Precision, VC_hard_f1, VC_hard_accuracy, VC_hard_cv_score, VC_hard_cv_stdev),\n",
    "       ( classi_Recall, classi_Precision, classi_f1, classi_accuracy, classi_cv_score, classi_cv_stdev),\n",
    "       ( classi1_Recall, classi1_Precision, classi1_f1, classi1_accuracy, classi1_cv_score, classi1_cv_stdev),\n",
    "       ( classi2_Recall, classi2_Precision, classi2_f1, classi2_accuracy, classi2_cv_score, classi2_cv_stdev),\n",
    "       ( classi3_Recall, classi3_Precision, classi3_f1, classi3_accuracy, classi3_cv_score, classi3_cv_stdev),\n",
    "       ( classi4_Recall, classi4_Precision, classi4_f1, classi4_accuracy, classi4_cv_score, classi4_cv_stdev),\n",
    "       ( classi5_Recall, classi5_Precision, classi5_f1, classi5_accuracy, classi5_cv_score, classi5_cv_stdev)]\n",
    "\n",
    "VC_hard_score = pd.DataFrame(data = ndf, columns=\n",
    "                        ['Recall','Precision','F1 Score', 'Accuracy', 'Avg CV Recall', 'Standard Deviation of CV Recall'])\n",
    "VC_hard_score.insert(0, 'Voting Classifier', ('Hard Voting','LogisticRegression','KNeighborsClassifier','DecisionTreeClassifier','RandomForestClassifier','SVC','GaussianNB'))\n",
    "VC_hard_score"
   ]
  }
 ],
 "metadata": {
  "colab": {
   "provenance": []
  },
  "kernelspec": {
   "display_name": "Python 3 (ipykernel)",
   "language": "python",
   "name": "python3"
  },
  "language_info": {
   "codemirror_mode": {
    "name": "ipython",
    "version": 3
   },
   "file_extension": ".py",
   "mimetype": "text/x-python",
   "name": "python",
   "nbconvert_exporter": "python",
   "pygments_lexer": "ipython3",
   "version": "3.9.12"
  }
 },
 "nbformat": 4,
 "nbformat_minor": 1
}
